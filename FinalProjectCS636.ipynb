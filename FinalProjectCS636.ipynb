{
 "cells": [
  {
   "cell_type": "markdown",
   "metadata": {},
   "source": [
    "Vanshika Shah, Zion Whitehall, George Diwan, Aarati Srikumar"
   ]
  },
  {
   "cell_type": "markdown",
   "metadata": {},
   "source": [
    "# For our Project we create a new CSV by joining data from the sales_train and items csv in R\n",
    "## Then we create a Linear Regressor Model in Python"
   ]
  },
  {
   "cell_type": "markdown",
   "metadata": {},
   "source": [
    "## Importing necessary Libraries in Python"
   ]
  },
  {
   "cell_type": "code",
   "execution_count": 1,
   "metadata": {},
   "outputs": [],
   "source": [
    "import pandas as pd  \n",
    "import numpy as np  \n",
    "import matplotlib.pyplot as plt  \n",
    "from sklearn.model_selection import train_test_split \n",
    "from sklearn.linear_model import LinearRegression\n",
    "from sklearn import metrics\n",
    "import sys\n",
    "#Uncommaent if need to install rpy2 package \n",
    "#!{sys.executable} -m pip install rpy2\n",
    "import rpy2\n",
    "\n",
    "%matplotlib inline\n",
    "%load_ext rpy2.ipython"
   ]
  },
  {
   "cell_type": "markdown",
   "metadata": {},
   "source": [
    "## Preprocessing in R to create the new csv which contains our target values"
   ]
  },
  {
   "cell_type": "code",
   "execution_count": 16,
   "metadata": {},
   "outputs": [],
   "source": [
    "%%R\n",
    "#install.packages(c(\"ggthemes\", \"Amelia\", \"caTools\"))\n",
    "library(readr)\n",
    "library(data.table)\n",
    "library(datasets)\n",
    "library(dplyr)\n",
    "library(lubridate)\n",
    "library(ggplot2)\n",
    "library(plotly)"
   ]
  },
  {
   "cell_type": "code",
   "execution_count": 17,
   "metadata": {},
   "outputs": [],
   "source": [
    "%%R\n",
    "\n",
    "#Read in training data files\n",
    "dataset_sales_train = read.csv(\"sales_train.csv\")\n",
    "dataset_items = read.csv(\"items.csv\")"
   ]
  },
  {
   "cell_type": "code",
   "execution_count": 18,
   "metadata": {},
   "outputs": [
    {
     "name": "stdout",
     "output_type": "stream",
     "text": [
      "        date date_block_num shop_id item_id item_price item_cnt_day\n",
      "1 02.01.2013              0      59   22154     999.00            1\n",
      "2 03.01.2013              0      25    2552     899.00            1\n",
      "3 05.01.2013              0      25    2552     899.00           -1\n",
      "4 06.01.2013              0      25    2554    1709.05            1\n",
      "5 15.01.2013              0      25    2555    1099.00            1\n",
      "6 10.01.2013              0      25    2564     349.00            1\n",
      "  item_category_id\n",
      "1               37\n",
      "2               58\n",
      "3               58\n",
      "4               58\n",
      "5               56\n",
      "6               59\n"
     ]
    }
   ],
   "source": [
    "%%R\n",
    "\n",
    "dim(dataset_sales_train)\n",
    "dim(dataset_items)\n",
    "#Merge Dataset\n",
    "dataset_sales <- dataset_sales_train %>% left_join(dataset_items, by = c(\"item_id\"))\n",
    "dataset_sales$item_name <- NULL\n",
    "head(dataset_sales)"
   ]
  },
  {
   "cell_type": "code",
   "execution_count": 19,
   "metadata": {},
   "outputs": [
    {
     "name": "stdout",
     "output_type": "stream",
     "text": [
      "'data.frame':\t2935849 obs. of  7 variables:\n",
      " $ date            : chr  \"02.01.2013\" \"03.01.2013\" \"05.01.2013\" \"06.01.2013\" ...\n",
      " $ date_block_num  : int  0 0 0 0 0 0 0 0 0 0 ...\n",
      " $ shop_id         : int  59 25 25 25 25 25 25 25 25 25 ...\n",
      " $ item_id         : int  22154 2552 2552 2554 2555 2564 2565 2572 2572 2573 ...\n",
      " $ item_price      : num  999 899 899 1709 1099 ...\n",
      " $ item_cnt_day    : num  1 1 -1 1 1 1 1 1 1 3 ...\n",
      " $ item_category_id: int  37 58 58 58 56 59 56 55 55 55 ...\n"
     ]
    }
   ],
   "source": [
    "%%R\n",
    "\n",
    "#Clear variables\n",
    "rm(dataset_sales_train)\n",
    "rm(dataset_items)\n",
    "dataset_sales <- as.data.frame(dataset_sales)\n",
    "str(dataset_sales)"
   ]
  },
  {
   "cell_type": "code",
   "execution_count": 20,
   "metadata": {},
   "outputs": [],
   "source": [
    "%%R\n",
    "#Create attributes\n",
    "dataset_sales$date <- dmy(dataset_sales$date)\n",
    "dataset_sales$year <- year(dataset_sales$date)\n",
    "dataset_sales$month <- month(dataset_sales$date)\n",
    "dataset_sales$day <- day(dataset_sales$date)\n",
    "dataset_sales$weekday <- weekdays(dataset_sales$date)\n",
    "dataset_sales$year <- as.factor(dataset_sales$year)\n",
    "dataset_sales$weekday <- as.factor(dataset_sales$weekday)"
   ]
  },
  {
   "cell_type": "code",
   "execution_count": 21,
   "metadata": {},
   "outputs": [
    {
     "name": "stdout",
     "output_type": "stream",
     "text": [
      "`summarise()` has grouped output by 'year', 'month', 'shop_id'. You can override using the `.groups` argument.\n",
      "        date date_block_num shop_id item_id item_price item_cnt_day\n",
      "1 2013-01-02              0      59   22154     999.00            1\n",
      "2 2013-01-03              0      25    2552     899.00            1\n",
      "3 2013-01-05              0      25    2552     899.00           -1\n",
      "4 2013-01-06              0      25    2554    1709.05            1\n",
      "5 2013-01-15              0      25    2555    1099.00            1\n",
      "6 2013-01-10              0      25    2564     349.00            1\n",
      "  item_category_id year month day   weekday item_cnt_month\n",
      "1               37 2013     1   2 Wednesday              1\n",
      "2               58 2013     1   3  Thursday              0\n",
      "3               58 2013     1   5  Saturday              0\n",
      "4               58 2013     1   6    Sunday              1\n",
      "5               56 2013     1  15   Tuesday              1\n",
      "6               59 2013     1  10  Thursday              1\n"
     ]
    }
   ],
   "source": [
    "%%R\n",
    "dataset_sales_item_cnt_month <-\n",
    "  dataset_sales %>% group_by(year, month, shop_id, item_id) %>% summarise(item_cnt_month = sum(item_cnt_day)) %>% ungroup()\n",
    "dataset_sales <-\n",
    "  dataset_sales %>% left_join(dataset_sales_item_cnt_month,\n",
    "                              by = c(\"year\", \"month\", \"shop_id\", \"item_id\"))\n",
    "rm(dataset_sales_item_cnt_month)\n",
    "head(dataset_sales)"
   ]
  },
  {
   "cell_type": "code",
   "execution_count": 22,
   "metadata": {},
   "outputs": [
    {
     "name": "stdout",
     "output_type": "stream",
     "text": [
      "                      shop_id     item_id   item_price item_cnt_day\n",
      "shop_id           1.000000000  0.02939639 -0.024034051 -0.005229685\n",
      "item_id           0.029396392  1.00000000 -0.134104042  0.016650304\n",
      "item_price       -0.024034051 -0.13410404  1.000000000  0.011196625\n",
      "item_cnt_day     -0.005229685  0.01665030  0.011196625  1.000000000\n",
      "item_category_id  0.019380462  0.36943074 -0.253554162  0.014767919\n",
      "item_cnt_month    0.002999427  0.06681713  0.002514264  0.435903895\n",
      "                 item_category_id item_cnt_month\n",
      "shop_id                0.01938046    0.002999427\n",
      "item_id                0.36943074    0.066817127\n",
      "item_price            -0.25355416    0.002514264\n",
      "item_cnt_day           0.01476792    0.435903895\n",
      "item_category_id       1.00000000    0.063476393\n",
      "item_cnt_month         0.06347639    1.000000000\n"
     ]
    }
   ],
   "source": [
    "%%R\n",
    "colSums(is.na(dataset_sales))\n",
    "num.cols <- sapply(dataset_sales, is.numeric)\n",
    "dataset_sales_numcols <- dataset_sales[, num.cols]\n",
    "dataset_sales_numcols$date_block_num <- NULL\n",
    "dataset_sales_numcols$month <- NULL\n",
    "dataset_sales_numcols$day <- NULL\n",
    "cor(dataset_sales_numcols)\n",
    "\n"
   ]
  },
  {
   "cell_type": "code",
   "execution_count": 26,
   "metadata": {},
   "outputs": [
    {
     "ename": "SyntaxError",
     "evalue": "positional argument follows keyword argument (<ipython-input-26-d3ed9680877c>, line 2)",
     "output_type": "error",
     "traceback": [
      "\u001b[0;36m  File \u001b[0;32m\"<ipython-input-26-d3ed9680877c>\"\u001b[0;36m, line \u001b[0;32m2\u001b[0m\n\u001b[0;31m    ggplot(data = melted_corr, aes(x = Var1, y = Var2, fill = value)) +\u001b[0m\n\u001b[0m                                                                    ^\u001b[0m\n\u001b[0;31mSyntaxError\u001b[0m\u001b[0;31m:\u001b[0m positional argument follows keyword argument\n"
     ]
    }
   ],
   "source": [
    "melted_corr <- melt(cor(dataset_sales_numcols))\n",
    "ggplot(data = melted_corr, aes(x = Var1, y = Var2, fill = value)) + \n",
    "geom_tile() + \n",
    "scale_fill_gradient(low=\"grey\", high=\"darkred\") + \n",
    "geom_text(aes(x = Var1, y = Var2, label = round(value, 2)), size = 4) + \n",
    "labs(title = \"Correlation Matrix\", x = \"Numeric Column(s)\", y = \"Numeric Column(s)\", fill = \"Coefficient Range\") + \n",
    "theme(axis.text.x=element_text(angle=45, vjust=0.5))\n",
    "\n",
    "rm(num.cols)\n",
    "rm(dataset_sales_numcols)\n",
    "rm(melted_corr)"
   ]
  },
  {
   "cell_type": "code",
   "execution_count": 9,
   "metadata": {},
   "outputs": [],
   "source": [
    "%%R\n",
    "#Clear variables\n",
    "rm(num.cols)\n",
    "rm(dataset_sales_numcols)\n",
    "rm(melted_corr)\n",
    "\n",
    "#Saving our train data to the files\n",
    "write.csv(dataset_sales, \"enhanced_train_data.csv\", row.names=TRUE)\n",
    "rm(list=ls())"
   ]
  },
  {
   "cell_type": "markdown",
   "metadata": {},
   "source": [
    "# Making the Linear Regression model in Python with all columns present"
   ]
  },
  {
   "cell_type": "code",
   "execution_count": 10,
   "metadata": {},
   "outputs": [
    {
     "data": {
      "image/png": "[encoded data removed]",
      "text/plain": [
       "<Figure size 1152x720 with 1 Axes>"
      ]
     },
     "metadata": {
      "needs_background": "light"
     },
     "output_type": "display_data"
    },
    {
     "name": "stdout",
     "output_type": "stream",
     "text": [
      "Mean Absolute Error: 6.442601062498102\n",
      "Mean Squared Error: 324.0927493547014\n",
      "Root Mean Squared Error: 18.00257618661011\n",
      "R-squared Error: 0.31370409656815246\n"
     ]
    }
   ],
   "source": [
    "df = pd.read_csv('enhanced_train_data.csv')\n",
    "nada = pd.Series(df.isnull().sum())\n",
    "nada[nada != 0]\n",
    "\n",
    "df = df.fillna(method='bfill')#change all NaN values\n",
    "df = df.fillna(method='ffill')\n",
    "\n",
    "from sklearn.preprocessing import OneHotEncoder\n",
    "\n",
    "\n",
    "x=(list(df))\n",
    "from sklearn.preprocessing import LabelEncoder\n",
    "for col in x:\n",
    "    le = LabelEncoder()\n",
    "    df[col] = le.fit_transform(df[col])\n",
    "\n",
    "X = np.array(df.drop(['item_cnt_month'], 1)) #columns\n",
    "y = np.array(df['item_cnt_month'])\n",
    "X_train, X_test, y_train, y_test = train_test_split(X, y, test_size=0.2, random_state=0)\n",
    "regressor = LinearRegression()  \n",
    "regressor.fit(X_train, y_train)\n",
    "y_pred = regressor.predict(X_test)\n",
    "df3 = pd.DataFrame({'Actual': y_test.flatten(), 'Predicted': y_pred.flatten()})\n",
    "df1 = df3.head(50)\n",
    "df1.plot(kind='bar',figsize=(16,10))\n",
    "plt.grid(which='major', linestyle='-', linewidth='0.5', color='green')\n",
    "plt.grid(which='minor', linestyle=':', linewidth='0.5', color='black')\n",
    "plt.show()\n",
    "print('Mean Absolute Error:', metrics.mean_absolute_error(y_test, y_pred))  \n",
    "print('Mean Squared Error:', metrics.mean_squared_error(y_test, y_pred))  \n",
    "print('Root Mean Squared Error:', np.sqrt(metrics.mean_squared_error(y_test, y_pred)))\n",
    "print('R-squared Error:', metrics.r2_score(y_test, y_pred))"
   ]
  },
  {
   "cell_type": "code",
   "execution_count": 11,
   "metadata": {},
   "outputs": [
    {
     "name": "stdout",
     "output_type": "stream",
     "text": [
      "(587170, 2)\n"
     ]
    },
    {
     "data": {
      "text/html": [
       "<div>\n",
       "<style scoped>\n",
       "    .dataframe tbody tr th:only-of-type {\n",
       "        vertical-align: middle;\n",
       "    }\n",
       "\n",
       "    .dataframe tbody tr th {\n",
       "        vertical-align: top;\n",
       "    }\n",
       "\n",
       "    .dataframe thead th {\n",
       "        text-align: right;\n",
       "    }\n",
       "</style>\n",
       "<table border=\"1\" class=\"dataframe\">\n",
       "  <thead>\n",
       "    <tr style=\"text-align: right;\">\n",
       "      <th></th>\n",
       "      <th>Actual</th>\n",
       "      <th>Predicted</th>\n",
       "    </tr>\n",
       "  </thead>\n",
       "  <tbody>\n",
       "    <tr>\n",
       "      <th>count</th>\n",
       "      <td>587170.000000</td>\n",
       "      <td>587170.000000</td>\n",
       "    </tr>\n",
       "    <tr>\n",
       "      <th>mean</th>\n",
       "      <td>14.034087</td>\n",
       "      <td>13.995583</td>\n",
       "    </tr>\n",
       "    <tr>\n",
       "      <th>std</th>\n",
       "      <td>21.730981</td>\n",
       "      <td>11.956772</td>\n",
       "    </tr>\n",
       "    <tr>\n",
       "      <th>min</th>\n",
       "      <td>1.000000</td>\n",
       "      <td>-27.929818</td>\n",
       "    </tr>\n",
       "    <tr>\n",
       "      <th>25%</th>\n",
       "      <td>8.000000</td>\n",
       "      <td>11.262627</td>\n",
       "    </tr>\n",
       "    <tr>\n",
       "      <th>50%</th>\n",
       "      <td>9.000000</td>\n",
       "      <td>12.598259</td>\n",
       "    </tr>\n",
       "    <tr>\n",
       "      <th>75%</th>\n",
       "      <td>12.000000</td>\n",
       "      <td>14.143473</td>\n",
       "    </tr>\n",
       "    <tr>\n",
       "      <th>max</th>\n",
       "      <td>445.000000</td>\n",
       "      <td>1242.100879</td>\n",
       "    </tr>\n",
       "  </tbody>\n",
       "</table>\n",
       "</div>"
      ],
      "text/plain": [
       "              Actual      Predicted\n",
       "count  587170.000000  587170.000000\n",
       "mean       14.034087      13.995583\n",
       "std        21.730981      11.956772\n",
       "min         1.000000     -27.929818\n",
       "25%         8.000000      11.262627\n",
       "50%         9.000000      12.598259\n",
       "75%        12.000000      14.143473\n",
       "max       445.000000    1242.100879"
      ]
     },
     "execution_count": 11,
     "metadata": {},
     "output_type": "execute_result"
    }
   ],
   "source": [
    "print(df3.shape)\n",
    "df3.describe()"
   ]
  },
  {
   "cell_type": "code",
   "execution_count": 12,
   "metadata": {},
   "outputs": [
    {
     "data": {
      "text/html": [
       "<div>\n",
       "<style scoped>\n",
       "    .dataframe tbody tr th:only-of-type {\n",
       "        vertical-align: middle;\n",
       "    }\n",
       "\n",
       "    .dataframe tbody tr th {\n",
       "        vertical-align: top;\n",
       "    }\n",
       "\n",
       "    .dataframe thead th {\n",
       "        text-align: right;\n",
       "    }\n",
       "</style>\n",
       "<table border=\"1\" class=\"dataframe\">\n",
       "  <thead>\n",
       "    <tr style=\"text-align: right;\">\n",
       "      <th></th>\n",
       "      <th>Unnamed: 0</th>\n",
       "      <th>date</th>\n",
       "      <th>date_block_num</th>\n",
       "      <th>shop_id</th>\n",
       "      <th>item_id</th>\n",
       "      <th>item_price</th>\n",
       "      <th>item_cnt_day</th>\n",
       "      <th>item_category_id</th>\n",
       "      <th>year</th>\n",
       "      <th>month</th>\n",
       "      <th>day</th>\n",
       "      <th>weekday</th>\n",
       "      <th>item_cnt_month</th>\n",
       "    </tr>\n",
       "  </thead>\n",
       "  <tbody>\n",
       "    <tr>\n",
       "      <th>0</th>\n",
       "      <td>0</td>\n",
       "      <td>1</td>\n",
       "      <td>0</td>\n",
       "      <td>59</td>\n",
       "      <td>21791</td>\n",
       "      <td>11110</td>\n",
       "      <td>9</td>\n",
       "      <td>37</td>\n",
       "      <td>0</td>\n",
       "      <td>0</td>\n",
       "      <td>1</td>\n",
       "      <td>6</td>\n",
       "      <td>8</td>\n",
       "    </tr>\n",
       "    <tr>\n",
       "      <th>1</th>\n",
       "      <td>1</td>\n",
       "      <td>2</td>\n",
       "      <td>0</td>\n",
       "      <td>25</td>\n",
       "      <td>2495</td>\n",
       "      <td>10336</td>\n",
       "      <td>9</td>\n",
       "      <td>58</td>\n",
       "      <td>0</td>\n",
       "      <td>0</td>\n",
       "      <td>2</td>\n",
       "      <td>4</td>\n",
       "      <td>7</td>\n",
       "    </tr>\n",
       "    <tr>\n",
       "      <th>2</th>\n",
       "      <td>2</td>\n",
       "      <td>4</td>\n",
       "      <td>0</td>\n",
       "      <td>25</td>\n",
       "      <td>2495</td>\n",
       "      <td>10336</td>\n",
       "      <td>8</td>\n",
       "      <td>58</td>\n",
       "      <td>0</td>\n",
       "      <td>0</td>\n",
       "      <td>4</td>\n",
       "      <td>2</td>\n",
       "      <td>7</td>\n",
       "    </tr>\n",
       "    <tr>\n",
       "      <th>3</th>\n",
       "      <td>3</td>\n",
       "      <td>5</td>\n",
       "      <td>0</td>\n",
       "      <td>25</td>\n",
       "      <td>2497</td>\n",
       "      <td>14575</td>\n",
       "      <td>9</td>\n",
       "      <td>58</td>\n",
       "      <td>0</td>\n",
       "      <td>0</td>\n",
       "      <td>5</td>\n",
       "      <td>3</td>\n",
       "      <td>8</td>\n",
       "    </tr>\n",
       "    <tr>\n",
       "      <th>4</th>\n",
       "      <td>4</td>\n",
       "      <td>14</td>\n",
       "      <td>0</td>\n",
       "      <td>25</td>\n",
       "      <td>2498</td>\n",
       "      <td>11730</td>\n",
       "      <td>9</td>\n",
       "      <td>56</td>\n",
       "      <td>0</td>\n",
       "      <td>0</td>\n",
       "      <td>14</td>\n",
       "      <td>5</td>\n",
       "      <td>8</td>\n",
       "    </tr>\n",
       "  </tbody>\n",
       "</table>\n",
       "</div>"
      ],
      "text/plain": [
       "   Unnamed: 0  date  date_block_num  shop_id  item_id  item_price  \\\n",
       "0           0     1               0       59    21791       11110   \n",
       "1           1     2               0       25     2495       10336   \n",
       "2           2     4               0       25     2495       10336   \n",
       "3           3     5               0       25     2497       14575   \n",
       "4           4    14               0       25     2498       11730   \n",
       "\n",
       "   item_cnt_day  item_category_id  year  month  day  weekday  item_cnt_month  \n",
       "0             9                37     0      0    1        6               8  \n",
       "1             9                58     0      0    2        4               7  \n",
       "2             8                58     0      0    4        2               7  \n",
       "3             9                58     0      0    5        3               8  \n",
       "4             9                56     0      0   14        5               8  "
      ]
     },
     "execution_count": 12,
     "metadata": {},
     "output_type": "execute_result"
    }
   ],
   "source": [
    "df.head()"
   ]
  },
  {
   "cell_type": "markdown",
   "metadata": {},
   "source": [
    "## Making the Linear Regression model with only columns that decrease the RMSE score and increase R-squared value"
   ]
  },
  {
   "cell_type": "markdown",
   "metadata": {},
   "source": [
    "For data quality checking, and filling NA values, we used ffill to forward fill NA values, and bfill so that both NA values at the beginning and the end of the dataframe are accoutned for. We did not have any Nulls however.\n",
    "\n",
    "We then used LabelEncoder to encode the levels of categorical features into numeric values.\n",
    "\n",
    "When it came to feature selection, we tried many different approaches. At first we dropped all columns that contained NA values, and dropped columns with low variance. We then created new columns for new values, but these approaches did not lead to an increase in accuracy\n",
    "\n",
    "Thus, I went through each column and found the ones that increased the accuracy. Specifically, I chose the columns that increased the R-sqaured value that evaluates the scatter of the data points around the fitted regression line. \n",
    "I also chose the columns that reduced the RMSE(root mean squared error) "
   ]
  },
  {
   "cell_type": "code",
   "execution_count": 13,
   "metadata": {},
   "outputs": [
    {
     "name": "stdout",
     "output_type": "stream",
     "text": [
      "10\n",
      "(2935849, 9)\n",
      "(2935849,)\n"
     ]
    },
    {
     "data": {
      "image/png": "[encoded data removed]",
      "text/plain": [
       "<Figure size 1152x720 with 1 Axes>"
      ]
     },
     "metadata": {
      "needs_background": "light"
     },
     "output_type": "display_data"
    },
    {
     "name": "stdout",
     "output_type": "stream",
     "text": [
      "Mean Absolute Error: 6.448434294964893\n",
      "Mean Squared Error: 324.2406933591303\n",
      "Root Mean Squared Error: 18.00668468539199\n",
      "R-squared Error: 0.31339081166937277\n"
     ]
    }
   ],
   "source": [
    "df = pd.read_csv('enhanced_train_data.csv')\n",
    "cols = []\n",
    "for i in range(2,len(df.columns)-2):\n",
    "    cols.append(i)\n",
    "df = df.drop(['Unnamed: 0'],axis =1)\n",
    "# df = df.fillna(method='ffill')\n",
    "# df = df.fillna(method='bfill')\n",
    "\n",
    "cols = [0,2]\n",
    "df.drop(df.columns[cols],axis=1,inplace=True)\n",
    "\n",
    "x=(list(df))\n",
    "from sklearn.preprocessing import LabelEncoder\n",
    "for col in x:\n",
    "    le = LabelEncoder()\n",
    "    df[col] = le.fit_transform(df[col])\n",
    "    \n",
    "from sklearn.preprocessing import MinMaxScaler\n",
    "scaler = MinMaxScaler() \n",
    "data_scaled = scaler.fit_transform(df)\n",
    "print(len(df.columns))\n",
    "\n",
    "X = np.array(df.drop(['item_cnt_month'], 1)) #columns\n",
    "y = np.array(df['item_cnt_month'])\n",
    "print(X.shape)\n",
    "print(y.shape)\n",
    "\n",
    "X_train, X_test, y_train, y_test = train_test_split(X, y, test_size=0.2, random_state=0)\n",
    "regressor = LinearRegression()  \n",
    "regressor.fit(X_train, y_train)\n",
    "y_pred = regressor.predict(X_test)\n",
    "df3 = pd.DataFrame({'Actual': y_test.flatten(), 'Predicted': y_pred.flatten()})\n",
    "\n",
    "df1 = df3.head(50)\n",
    "df1.plot(kind='bar',figsize=(16,10))\n",
    "plt.grid(which='major', linestyle='-', linewidth='0.5', color='green')\n",
    "plt.grid(which='minor', linestyle=':', linewidth='0.5', color='black')\n",
    "plt.show()\n",
    "print('Mean Absolute Error:', metrics.mean_absolute_error(y_test, y_pred))  \n",
    "print('Mean Squared Error:', metrics.mean_squared_error(y_test, y_pred))  \n",
    "print('Root Mean Squared Error:', np.sqrt(metrics.mean_squared_error(y_test, y_pred)))\n",
    "print('R-squared Error:', metrics.r2_score(y_test, y_pred))"
   ]
  },
  {
   "cell_type": "code",
   "execution_count": 14,
   "metadata": {},
   "outputs": [
    {
     "name": "stdout",
     "output_type": "stream",
     "text": [
      "(587170, 2)\n"
     ]
    },
    {
     "data": {
      "text/html": [
       "<div>\n",
       "<style scoped>\n",
       "    .dataframe tbody tr th:only-of-type {\n",
       "        vertical-align: middle;\n",
       "    }\n",
       "\n",
       "    .dataframe tbody tr th {\n",
       "        vertical-align: top;\n",
       "    }\n",
       "\n",
       "    .dataframe thead th {\n",
       "        text-align: right;\n",
       "    }\n",
       "</style>\n",
       "<table border=\"1\" class=\"dataframe\">\n",
       "  <thead>\n",
       "    <tr style=\"text-align: right;\">\n",
       "      <th></th>\n",
       "      <th>Actual</th>\n",
       "      <th>Predicted</th>\n",
       "    </tr>\n",
       "  </thead>\n",
       "  <tbody>\n",
       "    <tr>\n",
       "      <th>count</th>\n",
       "      <td>587170.000000</td>\n",
       "      <td>587170.000000</td>\n",
       "    </tr>\n",
       "    <tr>\n",
       "      <th>mean</th>\n",
       "      <td>14.034087</td>\n",
       "      <td>13.996122</td>\n",
       "    </tr>\n",
       "    <tr>\n",
       "      <th>std</th>\n",
       "      <td>21.730981</td>\n",
       "      <td>11.951266</td>\n",
       "    </tr>\n",
       "    <tr>\n",
       "      <th>min</th>\n",
       "      <td>1.000000</td>\n",
       "      <td>-27.857216</td>\n",
       "    </tr>\n",
       "    <tr>\n",
       "      <th>25%</th>\n",
       "      <td>8.000000</td>\n",
       "      <td>11.275180</td>\n",
       "    </tr>\n",
       "    <tr>\n",
       "      <th>50%</th>\n",
       "      <td>9.000000</td>\n",
       "      <td>12.618318</td>\n",
       "    </tr>\n",
       "    <tr>\n",
       "      <th>75%</th>\n",
       "      <td>12.000000</td>\n",
       "      <td>14.111806</td>\n",
       "    </tr>\n",
       "    <tr>\n",
       "      <th>max</th>\n",
       "      <td>445.000000</td>\n",
       "      <td>1242.198353</td>\n",
       "    </tr>\n",
       "  </tbody>\n",
       "</table>\n",
       "</div>"
      ],
      "text/plain": [
       "              Actual      Predicted\n",
       "count  587170.000000  587170.000000\n",
       "mean       14.034087      13.996122\n",
       "std        21.730981      11.951266\n",
       "min         1.000000     -27.857216\n",
       "25%         8.000000      11.275180\n",
       "50%         9.000000      12.618318\n",
       "75%        12.000000      14.111806\n",
       "max       445.000000    1242.198353"
      ]
     },
     "execution_count": 14,
     "metadata": {},
     "output_type": "execute_result"
    }
   ],
   "source": [
    "print(df3.shape)\n",
    "df3.describe()"
   ]
  },
  {
   "cell_type": "markdown",
   "metadata": {},
   "source": [
    "## Using feature importance with Corr"
   ]
  },
  {
   "cell_type": "code",
   "execution_count": 15,
   "metadata": {},
   "outputs": [
    {
     "name": "stdout",
     "output_type": "stream",
     "text": [
      "Series([], dtype: int64)\n",
      "Unnamed: 0          7.182677e+11\n",
      "date                8.231132e+04\n",
      "date_block_num      8.879270e+01\n",
      "shop_id             2.633147e+02\n",
      "item_id             3.872506e+07\n",
      "item_price          2.629077e+07\n",
      "item_cnt_day        3.242107e+00\n",
      "item_category_id    2.924359e+02\n",
      "year                5.905599e-01\n",
      "month               1.250485e+01\n",
      "day                 7.962855e+01\n",
      "weekday             3.660207e+00\n",
      "item_cnt_month      4.643873e+02\n",
      "dtype: float64\n"
     ]
    },
    {
     "data": {
      "image/png": "[encoded data removed]",
      "text/plain": [
       "<Figure size 1152x720 with 1 Axes>"
      ]
     },
     "metadata": {
      "needs_background": "light"
     },
     "output_type": "display_data"
    },
    {
     "name": "stdout",
     "output_type": "stream",
     "text": [
      "Mean Absolute Error: 6.442601062498102\n",
      "Mean Squared Error: 324.0927493547014\n",
      "Root Mean Squared Error: 18.00257618661011\n",
      "R-squared Error: 0.31370409656815246\n"
     ]
    }
   ],
   "source": [
    "df = pd.read_csv('enhanced_train_data.csv')\n",
    "nada = pd.Series(df.isnull().sum())\n",
    "print(nada[nada != 0])\n",
    "# df = df.drop(['Id'],axis =1)\n",
    "# df = df.fillna(method='bfill')#change all NaN values\n",
    "# df = df.fillna(method='ffill')\n",
    "\n",
    "x=(list(df))\n",
    "from sklearn.preprocessing import LabelEncoder\n",
    "for col in x:\n",
    "    le = LabelEncoder()\n",
    "    df[col] = le.fit_transform(df[col])\n",
    "    \n",
    "from sklearn.preprocessing import MinMaxScaler\n",
    "scaler = MinMaxScaler() \n",
    "data_scaled = scaler.fit_transform(df)\n",
    "\n",
    "corr = df.corr()\n",
    "corr_values = {}\n",
    "corrVal = []\n",
    "i= 0\n",
    "\n",
    "for col_name in corr.iloc[[11]]:\n",
    "    corr_value = corr.iloc[11][i]\n",
    "    corr_values[corr_value]=col_name\n",
    "    corrVal.append(corr_value)\n",
    "    i += 1\n",
    "corrVal.sort(reverse=True)\n",
    "corrVal=corrVal[0:11]\n",
    "\n",
    "col_names =[]\n",
    "for val in corrVal:\n",
    "    col_names.append(corr_values[val])\n",
    "df1 = df[col_names]\n",
    "print(df.var())\n",
    "X = np.array(df.drop(['item_cnt_month'], 1)) #columns\n",
    "y = np.array(df['item_cnt_month'])\n",
    "X_train, X_test, y_train, y_test = train_test_split(X, y, test_size=0.2, random_state=0)\n",
    "regressor = LinearRegression()  \n",
    "regressor.fit(X_train, y_train)\n",
    "y_pred = regressor.predict(X_test)\n",
    "df = pd.DataFrame({'Actual': y_test.flatten(), 'Predicted': y_pred.flatten()})\n",
    "df1 = df.head(50)\n",
    "df1.plot(kind='bar',figsize=(16,10))\n",
    "plt.grid(which='major', linestyle='-', linewidth='0.5', color='green')\n",
    "plt.grid(which='minor', linestyle=':', linewidth='0.5', color='black')\n",
    "plt.show()\n",
    "print('Mean Absolute Error:', metrics.mean_absolute_error(y_test, y_pred))  \n",
    "print('Mean Squared Error:', metrics.mean_squared_error(y_test, y_pred))  \n",
    "print('Root Mean Squared Error:', np.sqrt(metrics.mean_squared_error(y_test, y_pred)))\n",
    "print('R-squared Error:', metrics.r2_score(y_test, y_pred))"
   ]
  }
 ],
 "metadata": {
  "kernelspec": {
   "display_name": "Python 3",
   "language": "python",
   "name": "python3"
  },
  "language_info": {
   "codemirror_mode": {
    "name": "ipython",
    "version": 3
   },
   "file_extension": ".py",
   "mimetype": "text/x-python",
   "name": "python",
   "nbconvert_exporter": "python",
   "pygments_lexer": "ipython3",
   "version": "3.8.5"
  }
 },
 "nbformat": 4,
 "nbformat_minor": 4
}
